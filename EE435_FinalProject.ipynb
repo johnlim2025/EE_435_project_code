{
  "nbformat": 4,
  "nbformat_minor": 0,
  "metadata": {
    "colab": {
      "provenance": [],
      "gpuType": "T4"
    },
    "kernelspec": {
      "name": "python3",
      "display_name": "Python 3"
    },
    "language_info": {
      "name": "python"
    },
    "accelerator": "GPU"
  },
  "cells": [
    {
      "cell_type": "markdown",
      "source": [
        "# Final Project: Human Action Recognition"
      ],
      "metadata": {
        "id": "sn6cmDfGESOa"
      }
    },
    {
      "cell_type": "code",
      "source": [
        "!unzip \"Human Action Recognition.zip\""
      ],
      "metadata": {
        "id": "XzFnRIHEk6xn",
        "collapsed": true
      },
      "execution_count": null,
      "outputs": []
    },
    {
      "cell_type": "code",
      "source": [
        "import os\n",
        "import glob\n",
        "import numpy as np\n",
        "import pandas as pd\n",
        "\n",
        "from PIL import Image\n",
        "\n",
        "import tensorflow as tf\n",
        "from tensorflow import keras\n",
        "import torch\n",
        "\n",
        "import matplotlib.pyplot as plt\n",
        "\n",
        "device = 'cuda' if torch.cuda.is_available() else 'cpu'"
      ],
      "metadata": {
        "id": "HRCywOB1c2sN"
      },
      "execution_count": null,
      "outputs": []
    },
    {
      "cell_type": "code",
      "source": [
        "import tensorflow as tf\n",
        "from tensorflow.python.keras import backend as K\n",
        "\n",
        "config = tf.compat.v1.ConfigProto( device_count = {'GPU': 1 , 'CPU': 1} )\n",
        "sess = tf.compat.v1.Session(config=config)\n",
        "K.set_session(sess)"
      ],
      "metadata": {
        "id": "abyjWt96tagG"
      },
      "execution_count": null,
      "outputs": []
    },
    {
      "cell_type": "code",
      "source": [
        "# process the data\n",
        "dataset = pd.read_csv(\"Human Action Recognition/Training_set.csv\") # testing set does not have labels\n",
        "folder = glob.glob(\"Human Action Recognition/train/*\")\n",
        "filename = dataset[\"filename\"]\n",
        "data_labels = dataset[\"label\"]\n",
        "\n",
        "images = []\n",
        "labels = []\n",
        "length = len(folder)\n",
        "for i in range(length-1):\n",
        "  img = Image.open(\"Human Action Recognition/train/\" + filename[i])\n",
        "  images.append(np.asarray(img.resize((160,160))))\n",
        "  labels.append(data_labels[i])\n",
        "\n"
      ],
      "metadata": {
        "id": "cJ-lrXVTeyxi",
        "collapsed": true
      },
      "execution_count": null,
      "outputs": []
    },
    {
      "cell_type": "code",
      "source": [
        "images_np = np.asarray(images)\n",
        "labels_num, key = pd.factorize(np.asarray(data_labels))\n",
        "\n",
        "y_train = keras.utils.to_categorical(np.asarray(labels_num))\n",
        "\n",
        "#split dataset into training and validation\n",
        "images_train = images_np[:10000]\n",
        "images_validate = images_np[10000:]\n",
        "\n",
        "labels_train = y_train[:10000]\n",
        "labels_validate = y_train[10000:]\n"
      ],
      "metadata": {
        "id": "iRdFVLejgNw5"
      },
      "execution_count": null,
      "outputs": []
    },
    {
      "cell_type": "code",
      "source": [
        "# Specify Basic CNN model\n",
        "CNN_basic_model = tf.keras.models.Sequential()\n",
        "CNN_basic_model.add(keras.layers.Conv2D(filters = 32, kernel_size = (3,3), activation = 'relu', input_shape = (160,160,3)))\n",
        "CNN_basic_model.add(keras.layers.MaxPool2D(pool_size=2, strides=2))\n",
        "CNN_basic_model.add(keras.layers.Flatten())\n",
        "CNN_basic_model.add(keras.layers.Dense(128, activation = 'relu'))\n",
        "CNN_basic_model.add(keras.layers.Dense(15, activation = 'softmax'))\n",
        "\n",
        "CNN_basic_model.compile(optimizer='adam', loss='categorical_crossentropy',metrics=['accuracy'])"
      ],
      "metadata": {
        "id": "-_7X3H3h4TRH"
      },
      "execution_count": null,
      "outputs": []
    },
    {
      "cell_type": "code",
      "source": [
        "history1 = CNN_basic_model.fit(images_train, labels_train, validation_data = (images_validate, labels_validate), shuffle = True, epochs = 50)"
      ],
      "metadata": {
        "id": "dJbQxoSt8Qrz",
        "collapsed": true
      },
      "execution_count": null,
      "outputs": []
    },
    {
      "cell_type": "code",
      "source": [
        "loss = history1.history[\"loss\"]\n",
        "val_loss = history1.history[\"val_loss\"]\n",
        "plt.title('Loss History')\n",
        "plt.plot(loss, label = \"training\")\n",
        "plt.plot(val_loss, label = \"validation\")\n",
        "plt.xlabel(\"Epoch\")\n",
        "plt.ylabel(\"Loss\")\n",
        "plt.legend()"
      ],
      "metadata": {
        "id": "HPDUVR32_vkc",
        "collapsed": true
      },
      "execution_count": null,
      "outputs": []
    },
    {
      "cell_type": "code",
      "source": [
        "accuracy = history1.history[\"accuracy\"]\n",
        "val_accuracy = history1.history[\"val_accuracy\"]\n",
        "plt.title('Accuracy History')\n",
        "plt.plot(accuracy, label = \"training\")\n",
        "plt.plot(val_accuracy, label = \"validation\")\n",
        "plt.xlabel(\"Epoch\")\n",
        "plt.ylabel(\"Accuracy\")\n",
        "plt.legend()"
      ],
      "metadata": {
        "id": "1XQb20VA_1ZY",
        "collapsed": true
      },
      "execution_count": null,
      "outputs": []
    },
    {
      "cell_type": "code",
      "source": [
        "# Specify Improved CNN model\n",
        "CNN_v2 = tf.keras.models.Sequential()\n",
        "CNN_v2.add(keras.layers.Conv2D(filters = 32, kernel_size = (3,3), activation = 'relu', input_shape = (160,160,3)))\n",
        "CNN_v2.add(keras.layers.MaxPool2D(pool_size=2, strides=2))\n",
        "CNN_v2.add(keras.layers.Conv2D(filters = 32, kernel_size = (3,3), activation = 'relu', input_shape = (160,160,3)))\n",
        "CNN_v2.add(keras.layers.MaxPool2D(pool_size=2, strides=2))\n",
        "CNN_v2.add(keras.layers.Flatten())\n",
        "CNN_v2.add(keras.layers.Dense(512, activation = 'relu'))\n",
        "CNN_v2.add(keras.layers.Dropout(0.2))\n",
        "CNN_v2.add(keras.layers.Dense(256, activation = 'relu'))\n",
        "CNN_v2.add(keras.layers.Dropout(0.2))\n",
        "CNN_v2.add(keras.layers.Dense(15, activation = 'softmax'))\n",
        "\n",
        "CNN_v2.compile(optimizer=tf.keras.optimizers.Adam(), loss='categorical_crossentropy',metrics=['accuracy'])"
      ],
      "metadata": {
        "id": "93lVZ0dLWLBL"
      },
      "execution_count": null,
      "outputs": []
    },
    {
      "cell_type": "code",
      "source": [
        "history3 = CNN_v2.fit(images_train, labels_train, validation_data = (images_validate, labels_validate), shuffle = True, epochs = 50)"
      ],
      "metadata": {
        "id": "RvLD2fwjXEOq",
        "collapsed": true
      },
      "execution_count": null,
      "outputs": []
    },
    {
      "cell_type": "code",
      "source": [
        "loss = history3.history[\"loss\"]\n",
        "val_loss = history3.history[\"val_loss\"]\n",
        "plt.title('Loss History')\n",
        "plt.plot(loss, label = \"training\")\n",
        "plt.plot(val_loss, label = \"validation\")\n",
        "plt.xlabel(\"Epoch\")\n",
        "plt.ylabel(\"Loss\")\n",
        "plt.legend()"
      ],
      "metadata": {
        "id": "RID09z5W5boz"
      },
      "execution_count": null,
      "outputs": []
    },
    {
      "cell_type": "code",
      "source": [
        "accuracy = history3.history[\"accuracy\"]\n",
        "val_accuracy = history3.history[\"val_accuracy\"]\n",
        "plt.title('Accuracy History')\n",
        "plt.plot(accuracy, label = \"training\")\n",
        "plt.plot(val_accuracy, label = \"validation\")\n",
        "plt.xlabel(\"Epoch\")\n",
        "plt.ylabel(\"Accuracy\")\n",
        "plt.legend()"
      ],
      "metadata": {
        "id": "VafPiUgl5nCC"
      },
      "execution_count": null,
      "outputs": []
    },
    {
      "cell_type": "code",
      "source": [
        "# Specify Improved CNN model with data augmentation\n",
        "CNN_v3 = tf.keras.models.Sequential()\n",
        "CNN_v3.add(keras.layers.Conv2D(filters = 32, kernel_size = (3,3), activation = 'relu', input_shape = (160,160,3)))\n",
        "CNN_v3.add(keras.layers.MaxPool2D(pool_size=2, strides=2))\n",
        "CNN_v3.add(keras.layers.Conv2D(filters = 32, kernel_size = (3,3), activation = 'relu', input_shape = (160,160,3)))\n",
        "CNN_v3.add(keras.layers.MaxPool2D(pool_size=2, strides=2))\n",
        "CNN_v3.add(keras.layers.Conv2D(filters = 64, kernel_size = (3,3), activation = 'relu', input_shape = (160,160,3)))\n",
        "CNN_v3.add(keras.layers.MaxPool2D(pool_size=2, strides=2))\n",
        "CNN_v3.add(keras.layers.Conv2D(filters = 64, kernel_size = (3,3), activation = 'relu', input_shape = (160,160,3)))\n",
        "CNN_v3.add(keras.layers.MaxPool2D(pool_size=2, strides=2))\n",
        "CNN_v3.add(keras.layers.Dropout(0.2))\n",
        "CNN_v3.add(keras.layers.Flatten())\n",
        "CNN_v3.add(keras.layers.Dense(512, activation = 'relu'))\n",
        "CNN_v3.add(keras.layers.Dense(256, activation = 'relu'))\n",
        "CNN_v3.add(keras.layers.Dense(64, activation = 'relu'))\n",
        "CNN_v3.add(keras.layers.Dense(15, activation = 'softmax'))\n",
        "\n",
        "CNN_v3.compile(optimizer='adam', loss='categorical_crossentropy',metrics=['accuracy'])"
      ],
      "metadata": {
        "id": "M0imTykjlL4-"
      },
      "execution_count": null,
      "outputs": []
    },
    {
      "cell_type": "code",
      "source": [
        "datagen = keras.preprocessing.image.ImageDataGenerator(rotation_range=30, width_shift_range=0.1, height_shift_range=0.1)"
      ],
      "metadata": {
        "id": "Yi9n4TNpoceA"
      },
      "execution_count": null,
      "outputs": []
    },
    {
      "cell_type": "code",
      "source": [
        "batch_size = 32\n",
        "train_generator = datagen.flow(images_train, labels_train, batch_size=batch_size)"
      ],
      "metadata": {
        "id": "mUJEEnWGp3-f"
      },
      "execution_count": null,
      "outputs": []
    },
    {
      "cell_type": "code",
      "source": [
        "history4 = CNN_v3.fit(train_generator, validation_data = (images_validate, labels_validate), shuffle = True, epochs = 50)"
      ],
      "metadata": {
        "collapsed": true,
        "id": "l9x5qs9Xlzlm"
      },
      "execution_count": null,
      "outputs": []
    },
    {
      "cell_type": "code",
      "source": [
        "loss = history4.history[\"loss\"]\n",
        "val_loss = history4.history[\"val_loss\"]\n",
        "plt.title('Loss History')\n",
        "plt.plot(loss, label = \"training\")\n",
        "plt.plot(val_loss, label = \"validation\")\n",
        "plt.xlabel(\"Epoch\")\n",
        "plt.ylabel(\"Loss\")\n",
        "plt.legend()"
      ],
      "metadata": {
        "collapsed": true,
        "id": "spLgGy0e3bnq"
      },
      "execution_count": null,
      "outputs": []
    },
    {
      "cell_type": "code",
      "source": [
        "accuracy = history4.history[\"accuracy\"]\n",
        "val_accuracy = history4.history[\"val_accuracy\"]\n",
        "plt.title('Accuracy History')\n",
        "plt.plot(accuracy, label = \"training\")\n",
        "plt.plot(val_accuracy, label = \"validation\")\n",
        "plt.xlabel(\"Epoch\")\n",
        "plt.ylabel(\"Accuracy\")\n",
        "plt.legend()"
      ],
      "metadata": {
        "collapsed": true,
        "id": "teBueNm03d97"
      },
      "execution_count": null,
      "outputs": []
    },
    {
      "cell_type": "code",
      "source": [
        "# Specify VGG model\n",
        "vgg16 = tf.keras.models.Sequential()\n",
        "\n",
        "vgg_pretrained = tf.keras.applications.VGG16(include_top = False, input_shape = (160,160, 3), pooling = 'avg', classes = len(key), weights = \"imagenet\")\n",
        "\n",
        "for layer in vgg_pretrained.layers:\n",
        "  layer.trainable = False\n",
        "\n",
        "vgg16.add(vgg_pretrained)\n",
        "vgg16.add(keras.layers.Flatten())\n",
        "vgg16.add(keras.layers.Dense(512, activation = 'relu'))\n",
        "vgg16.add(keras.layers.Dense(256, activation = 'relu'))\n",
        "vgg16.add(keras.layers.Dense(15, activation = 'softmax'))\n",
        "\n",
        "vgg16.compile(optimizer='adam', loss='categorical_crossentropy',metrics=['accuracy'])\n",
        "\n",
        "\n"
      ],
      "metadata": {
        "id": "t-jx8l6_kQpS"
      },
      "execution_count": null,
      "outputs": []
    },
    {
      "cell_type": "code",
      "source": [
        "history = vgg16.fit(images_train, labels_train, validation_data = (images_validate, labels_validate), shuffle = True, epochs = 50)"
      ],
      "metadata": {
        "id": "RyIUdSpsoY1v",
        "collapsed": true
      },
      "execution_count": null,
      "outputs": []
    },
    {
      "cell_type": "code",
      "source": [
        "loss = history.history[\"loss\"]\n",
        "val_loss = history.history[\"val_loss\"]\n",
        "plt.title('Loss History')\n",
        "plt.plot(loss, label = \"training\")\n",
        "plt.plot(val_loss, label = \"validation\")\n",
        "plt.xlabel(\"Epoch\")\n",
        "plt.ylabel(\"Loss\")\n",
        "plt.legend()"
      ],
      "metadata": {
        "id": "WbhHa2Kb4VVZ"
      },
      "execution_count": null,
      "outputs": []
    },
    {
      "cell_type": "code",
      "source": [
        "accuracy = history.history[\"accuracy\"]\n",
        "val_accuracy = history.history[\"val_accuracy\"]\n",
        "plt.title('Accuracy History')\n",
        "plt.plot(accuracy, label = \"training\")\n",
        "plt.plot(val_accuracy, label = \"validation\")\n",
        "plt.xlabel(\"Epoch\")\n",
        "plt.ylabel(\"Accuracy\")\n",
        "plt.legend()"
      ],
      "metadata": {
        "id": "FutDO0IY49O6"
      },
      "execution_count": null,
      "outputs": []
    },
    {
      "cell_type": "code",
      "source": [
        "#resnet50\n",
        "resnet50 = tf.keras.models.Sequential()\n",
        "\n",
        "resnet50_pretrained = tf.keras.applications.ResNet50(include_top = False, input_shape = (160,160, 3), pooling = 'avg', classes = len(key), weights = \"imagenet\")\n",
        "\n",
        "for layer in resnet50_pretrained.layers:\n",
        "  layer.trainable = False\n",
        "\n",
        "resnet50.add(resnet50_pretrained)\n",
        "resnet50.add(keras.layers.Flatten())\n",
        "resnet50.add(keras.layers.Dense(512, activation = 'relu'))\n",
        "resnet50.add(keras.layers.Dense(15, activation = 'softmax'))\n",
        "\n",
        "resnet50.compile(optimizer='adam', loss='categorical_crossentropy',metrics=['accuracy'])\n"
      ],
      "metadata": {
        "id": "uybQpjp4QXBM",
        "collapsed": true
      },
      "execution_count": null,
      "outputs": []
    },
    {
      "cell_type": "code",
      "source": [
        "history2 = resnet50.fit(images_train, labels_train, validation_data = (images_validate, labels_validate), shuffle = True, epochs = 50)"
      ],
      "metadata": {
        "id": "eZ5c3PDiRF4m",
        "collapsed": true
      },
      "execution_count": null,
      "outputs": []
    },
    {
      "cell_type": "code",
      "source": [
        "loss = history2.history[\"loss\"]\n",
        "val_loss = history2.history[\"val_loss\"]\n",
        "plt.title('Loss History')\n",
        "plt.plot(loss, label = \"training\")\n",
        "plt.plot(val_loss, label = \"validation\")\n",
        "plt.xlabel(\"Epoch\")\n",
        "plt.ylabel(\"Loss\")\n",
        "plt.legend()"
      ],
      "metadata": {
        "id": "_dQp5eVIVmOd"
      },
      "execution_count": null,
      "outputs": []
    },
    {
      "cell_type": "code",
      "source": [
        "accuracy = history2.history[\"accuracy\"]\n",
        "val_accuracy = history2.history[\"val_accuracy\"]\n",
        "plt.title('Accuracy History')\n",
        "plt.plot(accuracy, label = \"training\")\n",
        "plt.plot(val_accuracy, label = \"validation\")\n",
        "plt.xlabel(\"Epoch\")\n",
        "plt.ylabel(\"Accuracy\")\n",
        "plt.legend()"
      ],
      "metadata": {
        "id": "ncH_eM7QV-An"
      },
      "execution_count": null,
      "outputs": []
    },
    {
      "cell_type": "code",
      "source": [
        "# Specify VGG model with data augmentation\n",
        "vgg16_aug = tf.keras.models.Sequential()\n",
        "\n",
        "vgg_pretrained = tf.keras.applications.VGG16(include_top = False, input_shape = (160,160, 3), pooling = 'avg', classes = len(key), weights = \"imagenet\")\n",
        "\n",
        "for layer in vgg_pretrained.layers:\n",
        "  layer.trainable = False\n",
        "\n",
        "vgg16_aug.add(vgg_pretrained)\n",
        "vgg16_aug.add(keras.layers.Flatten())\n",
        "vgg16_aug.add(keras.layers.Dense(512, activation = 'relu'))\n",
        "vgg16_aug.add(keras.layers.Dense(256, activation = 'relu'))\n",
        "vgg16_aug.add(keras.layers.Dense(15, activation = 'softmax'))\n",
        "\n",
        "vgg16_aug.compile(optimizer='adam', loss='categorical_crossentropy',metrics=['accuracy'])\n"
      ],
      "metadata": {
        "id": "fgrlwgR3B9Z0"
      },
      "execution_count": null,
      "outputs": []
    },
    {
      "cell_type": "code",
      "source": [
        "history5 = vgg16_aug.fit(train_generator, validation_data = (images_validate, labels_validate), shuffle = True, epochs = 50)"
      ],
      "metadata": {
        "id": "90eYf-H_CK99"
      },
      "execution_count": null,
      "outputs": []
    },
    {
      "cell_type": "code",
      "source": [
        "loss = history5.history[\"loss\"]\n",
        "val_loss = history5.history[\"val_loss\"]\n",
        "plt.title('Loss History')\n",
        "plt.plot(loss, label = \"training\")\n",
        "plt.plot(val_loss, label = \"validation\")\n",
        "plt.xlabel(\"Epoch\")\n",
        "plt.ylabel(\"Loss\")\n",
        "plt.legend()"
      ],
      "metadata": {
        "id": "2bJeZ02Kf32G"
      },
      "execution_count": null,
      "outputs": []
    },
    {
      "cell_type": "code",
      "source": [
        "accuracy = history5.history[\"accuracy\"]\n",
        "val_accuracy = history5.history[\"val_accuracy\"]\n",
        "plt.title('Accuracy History')\n",
        "plt.plot(accuracy, label = \"training\")\n",
        "plt.plot(val_accuracy, label = \"validation\")\n",
        "plt.xlabel(\"Epoch\")\n",
        "plt.ylabel(\"Accuracy\")\n",
        "plt.legend()"
      ],
      "metadata": {
        "id": "puwnuC5sf7TM"
      },
      "execution_count": null,
      "outputs": []
    },
    {
      "cell_type": "code",
      "source": [
        "# resnet50 with data augmentation\n",
        "resnet50_aug = tf.keras.models.Sequential()\n",
        "\n",
        "resnet50_pretrained = tf.keras.applications.ResNet50(include_top = False, input_shape = (160,160, 3), pooling = 'avg', classes = len(key), weights = \"imagenet\")\n",
        "\n",
        "for layer in resnet50_pretrained.layers:\n",
        "  layer.trainable = False\n",
        "\n",
        "resnet50_aug.add(resnet50_pretrained)\n",
        "resnet50_aug.add(keras.layers.Flatten())\n",
        "resnet50_aug.add(keras.layers.Dense(512, activation = 'relu'))\n",
        "resnet50_aug.add(keras.layers.Dense(15, activation = 'softmax'))\n",
        "\n",
        "resnet50_aug.compile(optimizer='adam', loss='categorical_crossentropy',metrics=['accuracy'])\n"
      ],
      "metadata": {
        "id": "ac2CBCfriNAB"
      },
      "execution_count": null,
      "outputs": []
    },
    {
      "cell_type": "code",
      "source": [
        "history6 = resnet50_aug.fit(train_generator, validation_data = (images_validate, labels_validate), shuffle = True, epochs = 50)"
      ],
      "metadata": {
        "id": "rtyKzb81iSl3"
      },
      "execution_count": null,
      "outputs": []
    },
    {
      "cell_type": "code",
      "source": [
        "loss = history6.history[\"loss\"]\n",
        "val_loss = history6.history[\"val_loss\"]\n",
        "plt.title('Loss History')\n",
        "plt.plot(loss, label = \"training\")\n",
        "plt.plot(val_loss, label = \"validation\")\n",
        "plt.xlabel(\"Epoch\")\n",
        "plt.ylabel(\"Loss\")\n",
        "plt.legend()"
      ],
      "metadata": {
        "id": "IjmDGEO7n0y8"
      },
      "execution_count": null,
      "outputs": []
    },
    {
      "cell_type": "code",
      "source": [
        "accuracy = history6.history[\"accuracy\"]\n",
        "val_accuracy = history6.history[\"val_accuracy\"]\n",
        "plt.title('Accuracy History')\n",
        "plt.plot(accuracy, label = \"training\")\n",
        "plt.plot(val_accuracy, label = \"validation\")\n",
        "plt.xlabel(\"Epoch\")\n",
        "plt.ylabel(\"Accuracy\")\n",
        "plt.legend()"
      ],
      "metadata": {
        "id": "a9NFFkPHn2xk"
      },
      "execution_count": null,
      "outputs": []
    }
  ]
}